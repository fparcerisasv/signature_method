{
 "cells": [
  {
   "cell_type": "markdown",
   "metadata": {},
   "source": [
    "# Càlcul de la signatura d'un conjunt de dades\n"
   ]
  },
  {
   "cell_type": "markdown",
   "metadata": {},
   "source": [
    "Implementarem una classe Data per guardar les dades referents a la sèrie temporal de la qual en volem calcular la signatura. Els seus paràmetres són:\n",
    "- times: un llistat de temps discrets on la sèrie temporal pren valors\n",
    "- values: els valors de la sèrie temporal\n",
    "- delta_X: una matriu amb les diferències entre valors de $X$ (self.values). Per índexos n,i, delta_X[n][i] guarda la diferència $X^i_{t_n} - X^i_{t_{n-1}}$\n",
    "- d: la cardinalitat de l'alfabet (l'alfabet no ampliat, sense signes)"
   ]
  },
  {
   "cell_type": "code",
   "execution_count": 1,
   "metadata": {},
   "outputs": [],
   "source": [
    "class Data: # Data class\n",
    "    def __init__(self):\n",
    "        self.times = [] # list of times\n",
    "        self.values = [] # list of values\n",
    "        \n",
    "        \n",
    "\n",
    "    # Calculate delta_X\n",
    "    def calculate_delta_X(self):\n",
    "        self.delta_X = [[0 for i in range(self.d)] for j in range(len(self.times)-1)]\n",
    "        for i in range(len(self.times)-1): # iterate through the times\n",
    "            for j in range(self.d): # iterate through the dimensions of the data\n",
    "                self.delta_X[i][j] = self.values[i+1][j] - self.values[i][j] # calculate delta_X as the difference between the next and current value\n",
    "    \n",
    "    def set_times(self, times):\n",
    "        self.times = times\n",
    "    \n",
    "    def set_values(self, values):\n",
    "        self.values = values\n",
    "        self.d = len(self.values[0])\n",
    "    "
   ]
  },
  {
   "cell_type": "markdown",
   "metadata": {},
   "source": [
    "Per guardar els indexos de cada element de la signatura, implementem la classe Words que guardarà totes les paraules de l'alfabet $\\{0,...,d-1\\}$. Per aquesta raó, aquesta implementació de la signatura tindrà un nombre finit d'elements."
   ]
  },
  {
   "cell_type": "code",
   "execution_count": 2,
   "metadata": {},
   "outputs": [],
   "source": [
    "class Words:\n",
    "    # Words class stores a list of all words with length <= k\n",
    "    def __init__(self, k, d):\n",
    "        self.k = k  # k is the maximum length of the string\n",
    "        self.combinations = []  # list of combinations\n",
    "        self.d = d\n",
    "        self.generate_combinations()  # generate all combinations of length <= k\n",
    "\n",
    "    def generate_combinations(self):  # generate all combinations of numbers 0,..,d-1 with signs + and - of length <= k\n",
    "        # Define a recursive function to generate combinations\n",
    "        def generate_helper(prefix, length):\n",
    "            if length == 0:\n",
    "                self.combinations.append(prefix)\n",
    "            else:\n",
    "                for i in range(self.d):\n",
    "                    generate_helper(prefix + str(i) + '+', length - 1)\n",
    "                    generate_helper(prefix + str(i) + '-', length - 1)\n",
    "\n",
    "        # Generate combinations of lengths from 0 to k\n",
    "        for length in range(self.k + 1):\n",
    "            generate_helper('', length)\n",
    "\n"
   ]
  },
  {
   "cell_type": "code",
   "execution_count": 3,
   "metadata": {},
   "outputs": [
    {
     "name": "stdout",
     "output_type": "stream",
     "text": [
      "['', '0+', '0-', '1+', '1-', '0+0+', '0+0-', '0+1+', '0+1-', '0-0+', '0-0-', '0-1+', '0-1-', '1+0+', '1+0-', '1+1+', '1+1-', '1-0+', '1-0-', '1-1+', '1-1-']\n",
      "Number of combinations:  21\n"
     ]
    }
   ],
   "source": [
    "# Example\n",
    "words = Words(2,2)\n",
    "print(words.combinations)\n",
    "print('Number of combinations: ' ,len(words.combinations)) "
   ]
  },
  {
   "cell_type": "markdown",
   "metadata": {},
   "source": [
    "La classe Signature implementarà el càlcul de la signatura discreta d'un conjunt de dades per paraules de mida <=k. Farem servir un algoritme de càlcul diferent a l'algoritme naive que simplement calcula de forma recursiva la signatura a partir de les equacions de la signatura discreta.\n",
    "L'algoritme que farem servir segueix sent un algoritme recursiu que que calcula la signatura a partir de les equacions però desant els elements de la signatura ja calculats, en un diccionari, per no haver-los de recalcular.\n",
    "\n",
    "És important puntualitzar que els indexos comencen a partir del 0, a diferència de la notació habitual que comencen a partir de 1.\n",
    "\n",
    "Els seus paràmetres són:\n",
    "- k: mida màxima de la paraula\n",
    "- data: objecte de tipus Data\n",
    "- mu: constant de decadència\n",
    "- delta_mu: llista que, per un índex n, desa el valor de $e^{-\\mu(t_n - t_{n-1})}$\n",
    "- is_computed: diccionari que per una paraula w i uns n,m desa si ha estat calculat o no el valor de la signatura\n",
    "- words: objecte de tipus Words\n",
    "- sig: diccionari que per una paraula w i uns n,m desa el valor de la signatura\n",
    "\n"
   ]
  },
  {
   "cell_type": "code",
   "execution_count": 4,
   "metadata": {},
   "outputs": [],
   "source": [
    "import math # import math library\n",
    "class Signature:\n",
    "    def __init__(self, k, data):\n",
    "        self.k = k # maximum length of the word\n",
    "        self.data = data # list of strings\n",
    "        self.mu = 1 # rate of decay\n",
    "        self.delta_mu = [] # list of exp(-mu*(t_n - t_{n-1}))\n",
    "        self.iscomputed = {} # dictionary to store the computed values\n",
    "        self.words = Words(self.k, self.data.d) # list of all words with length <= k\n",
    "        # Initialize the dictionary iscomputed with False for all words\n",
    "        for word in self.words.combinations: # iterate through the list of words\n",
    "            for m in range(len(data.times)):\n",
    "                for n in range(len(data.times)):\n",
    "                    self.iscomputed[(word, m, n)] = False\n",
    "        \n",
    "        self.sig = {} # dictionary to store the signature values\n",
    "        self.initialize_signature()\n",
    "        \n",
    "    def set_mu(self, mu): # set the rate of decay\n",
    "        self.mu = mu\n",
    "        \n",
    "    def set_delta_mu(self): # set delta_mu\n",
    "        self.delta_mu = [math.exp(-self.mu * (self.data.times[n] - self.data.times[n-1])) for n in range(1, len(self.data.times))] # exp(-mu*(t_n - t_{n-1}))\n",
    "   \n",
    "\n",
    "    def calculate_signature(self,t_m, t_n):\n",
    "        m = self.data.times.index(t_m) # index of t_m\n",
    "        n = self.data.times.index(t_n) # index of t_n\n",
    "        output_sig = {}\n",
    "        for word in self.words.combinations: # iterate through the list of words\n",
    "            self.sig[word][m][n] = self.signature(m, n, word) # calculate the signature value\n",
    "            output_sig[word] = self.sig[word][m][n] # store the signature value in the output_sig dictionary\n",
    "        return output_sig # return the output_sig dictionary\n",
    "    \n",
    "    def initialize_signature(self): # initialize the signature values\n",
    "        for word in self.words.combinations:\n",
    "            self.sig[word] = [[0 for i in range(len(self.data.times))] for j in range(len(self.data.times))]\n",
    "            \n",
    "\n",
    "    def signature(self, m, n, word): # calculate an element of the signature\n",
    "        if self.iscomputed[(word, m, n)]: # if the value is already computed\n",
    "            return self.sig[word][m][n] # return the value\n",
    "        \n",
    "        if len(word) == 0: # if the length of the word is 0\n",
    "            return 1 # return 1\n",
    "        if m==n and len(word) != 1: # if the length of the word is >=1 and m=n\n",
    "            return 0 # return 0\n",
    "        #We use the recursive equation to calculate the signature\n",
    "        w,i_ = word[:len(word)-2], word[len(word)-2:] # split the word into two parts\n",
    "        i,sign = i_[0],i_[1] # split the second part into number and sign\n",
    "        \n",
    "        if sign == '-': # if it's head\n",
    "            self.sig[word][m][n]  = self.delta_mu[n-1]*(self.signature(m, n-1, word) + self.data.delta_X[n-1][int(i)]*self.signature(m, n-1, w)) # calculate the signature value\n",
    "        else: # if it's tail\n",
    "            \n",
    "            self.sig[word][m][n] =  self.delta_mu[n-1]*self.signature(m, n-1, word) + self.data.delta_X[n-1][int(i)]*self.signature(m, n, w) # calculate the signature value\n",
    "        \n",
    "        self.iscomputed[(word, m, n)] = True # set the value of iscomputed to True\n",
    "    \n",
    "        return self.sig[word][m][n] # return the signature value\n",
    "    "
   ]
  },
  {
   "cell_type": "code",
   "execution_count": 11,
   "metadata": {},
   "outputs": [
    {
     "name": "stdout",
     "output_type": "stream",
     "text": [
      "[0.5000735956957677, 0.7071588192872713, 0.5000735956957677, 0.7071588192872713]\n",
      "{'': 1, '0+': 4.914464840798731, '0-': 3.0788497746331607, '1+': 4.042957896358364, '1-': 2.703653689615039, '0+0+': 19.57261860844203, '0+0-': 6.743688926844569, '0+1+': 20.15800656541911, '0+1-': 6.657564958746547, '0-0+': 11.65151677702903, '0-0-': 3.372340769900896, '0-1+': 12.565509508326071, '0-1-': 3.3292724474985307, '1+0+': 13.715231088464384, '1+0-': 0.21478948179181753, '1+1+': 18.336578202725576, '1+1-': -1.3286100212391103, '1-0+': 8.61132912315731, '1-0-': -0.6249079376702307, '1-1+': 12.190074777598674, '1-1-': -1.2502575795164685}\n",
      "--- 0.0037789344787597656 seconds ---\n"
     ]
    }
   ],
   "source": [
    "# Example data object\n",
    "import time\n",
    "start_time = time.time()\n",
    "data = Data()\n",
    "times = [0, 1, 1.5, 2.5, 3]\n",
    "values = [[1, 1], [3, 4], [3, 2], [5, 2], [8, 6]]\n",
    "data.set_times(times)\n",
    "data.set_values(values)\n",
    "\n",
    "data.calculate_delta_X()\n",
    "\n",
    "#Signature object\n",
    "signature = Signature(2, data)\n",
    "signature.set_mu(0.693)\n",
    "signature.set_delta_mu()\n",
    "print(signature.delta_mu)\n",
    "# Calculate the signature\n",
    "sig = signature.calculate_signature(0,3)\n",
    "print(\"--- %s seconds ---\" % (time.time() - start_time))\n",
    "print(sig)"
   ]
  }
 ],
 "metadata": {
  "kernelspec": {
   "display_name": "Python 3",
   "language": "python",
   "name": "python3"
  },
  "language_info": {
   "codemirror_mode": {
    "name": "ipython",
    "version": 3
   },
   "file_extension": ".py",
   "mimetype": "text/x-python",
   "name": "python",
   "nbconvert_exporter": "python",
   "pygments_lexer": "ipython3",
   "version": "3.12.0"
  }
 },
 "nbformat": 4,
 "nbformat_minor": 2
}
