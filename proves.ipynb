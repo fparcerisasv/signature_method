{
 "cells": [
  {
   "cell_type": "code",
   "execution_count": 68,
   "metadata": {},
   "outputs": [
    {
     "ename": "OSError",
     "evalue": "exception: access violation writing 0x00000000006C0061",
     "output_type": "error",
     "traceback": [
      "\u001b[1;31m---------------------------------------------------------------------------\u001b[0m",
      "\u001b[1;31mOSError\u001b[0m                                   Traceback (most recent call last)",
      "Cell \u001b[1;32mIn[68], line 20\u001b[0m\n\u001b[0;32m     17\u001b[0m sw\u001b[38;5;241m.\u001b[39mset_delta_mu(signature)\n\u001b[0;32m     19\u001b[0m \u001b[38;5;66;03m# Calculate the signature\u001b[39;00m\n\u001b[1;32m---> 20\u001b[0m \u001b[43msw\u001b[49m\u001b[38;5;241;43m.\u001b[39;49m\u001b[43mcalculate_signature\u001b[49m\u001b[43m(\u001b[49m\u001b[43msignature\u001b[49m\u001b[43m,\u001b[49m\u001b[43m \u001b[49m\u001b[38;5;241;43m0\u001b[39;49m\u001b[43m,\u001b[49m\u001b[43m \u001b[49m\u001b[38;5;241;43m3\u001b[39;49m\u001b[43m)\u001b[49m\n",
      "File \u001b[1;32mc:\\Users\\fparc\\OneDrive\\Escriptori\\TFG - MATESSSSS\\codis\\classes_sig_c.py:87\u001b[0m, in \u001b[0;36mcalculate_signature\u001b[1;34m(signature, m, n)\u001b[0m\n\u001b[0;32m     86\u001b[0m \u001b[38;5;28;01mdef\u001b[39;00m \u001b[38;5;21mcalculate_signature\u001b[39m(signature, m, n):\n\u001b[1;32m---> 87\u001b[0m     \u001b[43msignature_lib\u001b[49m\u001b[38;5;241;43m.\u001b[39;49m\u001b[43mcalculate_signature\u001b[49m\u001b[43m(\u001b[49m\u001b[43msignature\u001b[49m\u001b[43m,\u001b[49m\u001b[43m \u001b[49m\u001b[43mm\u001b[49m\u001b[43m,\u001b[49m\u001b[43m \u001b[49m\u001b[43mn\u001b[49m\u001b[43m)\u001b[49m\n",
      "\u001b[1;31mOSError\u001b[0m: exception: access violation writing 0x00000000006C0061"
     ]
    }
   ],
   "source": [
    "# main.py\n",
    "\n",
    "import classes_sig_c as sw\n",
    "\n",
    "# Example data object\n",
    "data = sw.create_data(5, 2)\n",
    "times = [0, 1, 1.5, 2.5, 3]\n",
    "values = [[1, 1], [3, 4], [3, 2], [5, 2], [8, 6]]\n",
    "sw.set_times(data, times)\n",
    "sw.set_values(data, values)\n",
    "\n",
    "delta_X = sw.calculate_delta_X(data)\n",
    "\n",
    "# Signature object\n",
    "signature = sw.create_signature(2, data)\n",
    "sw.set_mu(signature, 0.693)\n",
    "sw.set_delta_mu(signature)\n",
    "\n",
    "# Calculate the signature\n",
    "sw.calculate_signature(signature, 0, 3)\n",
    "\n"
   ]
  }
 ],
 "metadata": {
  "kernelspec": {
   "display_name": ".venv",
   "language": "python",
   "name": "python3"
  },
  "language_info": {
   "codemirror_mode": {
    "name": "ipython",
    "version": 3
   },
   "file_extension": ".py",
   "mimetype": "text/x-python",
   "name": "python",
   "nbconvert_exporter": "python",
   "pygments_lexer": "ipython3",
   "version": "3.12.0"
  }
 },
 "nbformat": 4,
 "nbformat_minor": 2
}
